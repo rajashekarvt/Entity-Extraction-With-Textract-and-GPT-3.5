{
 "cells": [
  {
   "cell_type": "code",
   "execution_count": 1,
   "metadata": {},
   "outputs": [],
   "source": [
    "import pinecone\n",
    "import os\n",
    "import boto3\n",
    "\n",
    "client=boto3.client('textract',region_name='YOUR REGION',aws_access_key_id=\"YOUR ACCESS KEY\",\n",
    "                    aws_secret_access_key=\"YOUR SECRET KEY\")\n",
    "\n",
    "pinecone.init(api_key = \"YOUR API KEY\",environment = \"YOUR ENVIRONMENT\")"
   ]
  },
  {
   "cell_type": "code",
   "execution_count": 3,
   "metadata": {},
   "outputs": [],
   "source": [
    "pinecone.create_index(\"INDEX NAME\", dimension=384, source_collection=\"INDEX NAME\")"
   ]
  },
  {
   "cell_type": "code",
   "execution_count": 2,
   "metadata": {},
   "outputs": [],
   "source": [
    "def get_response(image):\n",
    "    response=client.detect_document_text(\n",
    "        Document={'Bytes':image}\n",
    "    )\n",
    "    text=\"\"\n",
    "    for item in response['Blocks']:\n",
    "        if item['BlockType']=='LINE':\n",
    "            print(item['Text'])\n",
    "            text += f\" {item['Text']}\"\n",
    "    \n",
    "    return text"
   ]
  },
  {
   "cell_type": "code",
   "execution_count": null,
   "metadata": {},
   "outputs": [],
   "source": [
    "for dir in os.listdir(\"docs-sm\"):\n",
    "    for items in os.listdir(os.path.join(\"docs-sm\",dir)):\n",
    "        image_path = os.path.join(os.path.join(\"docs-sm\",dir,items))\n",
    "        with open(image_path,'rb') as image:    \n",
    "            processed_image = bytearray(image.read())\n",
    "        print((image_path,dir))\n",
    "        ocr_response = get_response(processed_image)\n",
    "        "
   ]
  },
  {
   "cell_type": "code",
   "execution_count": null,
   "metadata": {},
   "outputs": [],
   "source": [
    "from tqdm.auto import tqdm\n",
    "ocr_items = []\n",
    "for dir in tqdm(os.listdir(\"docs-sm\")):\n",
    "    for idx,items in tqdm(enumerate(os.listdir(os.path.join(\"docs-sm\",dir)))):\n",
    "        image_path = os.path.join(os.path.join(\"docs-sm\",dir,items))\n",
    "        ocr_response = get_response(image_path)\n",
    "        ocr_items.append((dir,ocr_response))\n",
    "        if idx == 40:\n",
    "            break\n",
    "        \n",
    "        "
   ]
  },
  {
   "cell_type": "code",
   "execution_count": 5,
   "metadata": {},
   "outputs": [],
   "source": [
    "ocr_texts = []\n",
    "for item in ocr_items:\n",
    "    for dic in item[1].items():\n",
    "        ocr_texts.append((item[0],dic[1]))"
   ]
  },
  {
   "cell_type": "code",
   "execution_count": 6,
   "metadata": {},
   "outputs": [],
   "source": [
    "import pandas as pd\n",
    "\n",
    "df = pd.DataFrame(ocr_texts,columns=['doc_type','ocr_text'])"
   ]
  },
  {
   "cell_type": "code",
   "execution_count": 7,
   "metadata": {},
   "outputs": [
    {
     "data": {
      "text/html": [
       "<div>\n",
       "<style scoped>\n",
       "    .dataframe tbody tr th:only-of-type {\n",
       "        vertical-align: middle;\n",
       "    }\n",
       "\n",
       "    .dataframe tbody tr th {\n",
       "        vertical-align: top;\n",
       "    }\n",
       "\n",
       "    .dataframe thead th {\n",
       "        text-align: right;\n",
       "    }\n",
       "</style>\n",
       "<table border=\"1\" class=\"dataframe\">\n",
       "  <thead>\n",
       "    <tr style=\"text-align: right;\">\n",
       "      <th></th>\n",
       "      <th>doc_type</th>\n",
       "      <th>ocr_text</th>\n",
       "    </tr>\n",
       "  </thead>\n",
       "  <tbody>\n",
       "    <tr>\n",
       "      <th>0</th>\n",
       "      <td>advertisement</td>\n",
       "      <td>FREE SAMPLE \\n. \\nRALEIGH \\nRALEIGH \\nLIGHTS \\...</td>\n",
       "    </tr>\n",
       "    <tr>\n",
       "      <th>1</th>\n",
       "      <td>advertisement</td>\n",
       "      <td>STORS COUPON \\nALDA $ 100 OFF \\n- : // h \\nJot...</td>\n",
       "    </tr>\n",
       "    <tr>\n",
       "      <th>2</th>\n",
       "      <td>advertisement</td>\n",
       "      <td>***** \\n253 \\nrehiy \\nVintage pleasures \\nWhen...</td>\n",
       "    </tr>\n",
       "    <tr>\n",
       "      <th>3</th>\n",
       "      <td>advertisement</td>\n",
       "      <td>I 57 find % of clean Winston tasting smokers F...</td>\n",
       "    </tr>\n",
       "    <tr>\n",
       "      <th>4</th>\n",
       "      <td>advertisement</td>\n",
       "      <td>Latest US.Government figures show \\nPALL MALL ...</td>\n",
       "    </tr>\n",
       "    <tr>\n",
       "      <th>...</th>\n",
       "      <td>...</td>\n",
       "      <td>...</td>\n",
       "    </tr>\n",
       "    <tr>\n",
       "      <th>636</th>\n",
       "      <td>specification</td>\n",
       "      <td>Section Q.E. Code \\nPHILIP MORRIS 1 \\n( PH ) S...</td>\n",
       "    </tr>\n",
       "    <tr>\n",
       "      <th>637</th>\n",
       "      <td>specification</td>\n",
       "      <td>U.S. DEPARTMENT OF LABOR Form Approved \\nOccup...</td>\n",
       "    </tr>\n",
       "    <tr>\n",
       "      <th>638</th>\n",
       "      <td>specification</td>\n",
       "      <td>لمتحكما wcowards Lauce nici Company mses SOS #...</td>\n",
       "    </tr>\n",
       "    <tr>\n",
       "      <th>639</th>\n",
       "      <td>specification</td>\n",
       "      <td>CIGARETTE SPECIFICATION \\nLOUISVILLE EFFECTIVE...</td>\n",
       "    </tr>\n",
       "    <tr>\n",
       "      <th>640</th>\n",
       "      <td>specification</td>\n",
       "      <td>CIGARETTE SPECIFICATION . \\nLOUISVILLE EFFECTI...</td>\n",
       "    </tr>\n",
       "  </tbody>\n",
       "</table>\n",
       "<p>641 rows × 2 columns</p>\n",
       "</div>"
      ],
      "text/plain": [
       "          doc_type                                           ocr_text\n",
       "0    advertisement  FREE SAMPLE \\n. \\nRALEIGH \\nRALEIGH \\nLIGHTS \\...\n",
       "1    advertisement  STORS COUPON \\nALDA $ 100 OFF \\n- : // h \\nJot...\n",
       "2    advertisement  ***** \\n253 \\nrehiy \\nVintage pleasures \\nWhen...\n",
       "3    advertisement  I 57 find % of clean Winston tasting smokers F...\n",
       "4    advertisement  Latest US.Government figures show \\nPALL MALL ...\n",
       "..             ...                                                ...\n",
       "636  specification  Section Q.E. Code \\nPHILIP MORRIS 1 \\n( PH ) S...\n",
       "637  specification  U.S. DEPARTMENT OF LABOR Form Approved \\nOccup...\n",
       "638  specification  لمتحكما wcowards Lauce nici Company mses SOS #...\n",
       "639  specification  CIGARETTE SPECIFICATION \\nLOUISVILLE EFFECTIVE...\n",
       "640  specification  CIGARETTE SPECIFICATION . \\nLOUISVILLE EFFECTI...\n",
       "\n",
       "[641 rows x 2 columns]"
      ]
     },
     "execution_count": 7,
     "metadata": {},
     "output_type": "execute_result"
    }
   ],
   "source": [
    "df"
   ]
  },
  {
   "cell_type": "code",
   "execution_count": 8,
   "metadata": {},
   "outputs": [],
   "source": [
    "df.to_csv(\"Upsertable Docs.csv\",index=None)"
   ]
  },
  {
   "cell_type": "code",
   "execution_count": 9,
   "metadata": {},
   "outputs": [
    {
     "data": {
      "text/plain": [
       "641"
      ]
     },
     "execution_count": 9,
     "metadata": {},
     "output_type": "execute_result"
    }
   ],
   "source": [
    "len(ocr_texts)"
   ]
  },
  {
   "cell_type": "code",
   "execution_count": 12,
   "metadata": {},
   "outputs": [],
   "source": [
    "from sentence_transformers import SentenceTransformer\n",
    "\n",
    "model_name = \"all-minilm-l6-v2\"\n",
    "model = SentenceTransformer(model_name)"
   ]
  },
  {
   "cell_type": "code",
   "execution_count": 13,
   "metadata": {},
   "outputs": [],
   "source": [
    "def get_embeddings(text):\n",
    "    return model.encode(text).tolist()"
   ]
  },
  {
   "cell_type": "code",
   "execution_count": 7,
   "metadata": {},
   "outputs": [],
   "source": [
    "id = index.describe_index_stats()['total_vector_count']"
   ]
  },
  {
   "cell_type": "code",
   "execution_count": 8,
   "metadata": {},
   "outputs": [
    {
     "data": {
      "text/plain": [
       "0"
      ]
     },
     "execution_count": 8,
     "metadata": {},
     "output_type": "execute_result"
    }
   ],
   "source": [
    "id"
   ]
  },
  {
   "cell_type": "code",
   "execution_count": 10,
   "metadata": {},
   "outputs": [],
   "source": [
    "import pandas as  pd\n",
    "\n",
    "df = pd.read_csv(\"Upsertable Docs.csv\")"
   ]
  },
  {
   "cell_type": "code",
   "execution_count": 14,
   "metadata": {},
   "outputs": [
    {
     "data": {
      "application/vnd.jupyter.widget-view+json": {
       "model_id": "faf5ec78768c41069ca1673fbd863022",
       "version_major": 2,
       "version_minor": 0
      },
      "text/plain": [
       "0it [00:00, ?it/s]"
      ]
     },
     "metadata": {},
     "output_type": "display_data"
    }
   ],
   "source": [
    "from tqdm.auto import tqdm\n",
    "docs_list = []\n",
    "id\n",
    "for i, row in tqdm(df.iterrows()):\n",
    "    vector_id =  str(id+i)\n",
    "    docs_list.append((\n",
    "        vector_id, get_embeddings(row['ocr_text']),{\n",
    "            'ocr_text':row['ocr_text'],\n",
    "            'doctype':row['doc_type']\n",
    "        })\n",
    "    )\n",
    "    index.upsert(vectors=docs_list)"
   ]
  },
  {
   "cell_type": "code",
   "execution_count": 21,
   "metadata": {},
   "outputs": [
    {
     "name": "stdout",
     "output_type": "stream",
     "text": [
      "{'matches': [{'id': '16',\n",
      "              'metadata': {'doctype': 'advertisement',\n",
      "                           'ocr_text': \"You don't have a \\n\"\n",
      "                                       'to be elected President \\n'\n",
      "                                       'to live like one \\n'\n",
      "                                       'Win $ 16,000 in the Kent & True '\n",
      "                                       'Presidential Sweepstakes ! \\n'\n",
      "                                       'Or any one of 5,125 other prizes ! \\n'\n",
      "                                       'C KENT TRUE \\n'\n",
      "                                       'AN AZE \\n'\n",
      "                                       'KENT 6N 321 \\n'\n",
      "                                       '10 \\n'\n",
      "                                       'TRUE . \\n'\n",
      "                                       'First Prize \\n'\n",
      "                                       \"The each President's year for 4 weekly \"\n",
      "                                       'years- salary $ 16,000 , $ 4,000 in '\n",
      "                                       'all , ! \\n'\n",
      "                                       '5 Second Prizes 20 Third Prizes 100 '\n",
      "                                       'Fourth Prizes 5.000 Fith Prizos \\n'\n",
      "                                       \"P C INFO WAR'S L Conf For La \\n\"\n",
      "                                       'Lang S \\n'\n",
      "                                       'ww \\n'\n",
      "                                       'S \\n'\n",
      "                                       'HAM Falevy \\n'\n",
      "                                       '57 \\n'\n",
      "                                       'No purchase necessary . Enter Kent & '\n",
      "                                       \"True's \\n\"\n",
      "                                       'Presidential Sweepstakes as chen as '\n",
      "                                       'you like . Look for \\n'\n",
      "                                       'the display next time you buy Kert or '\n",
      "                                       'frue . \\n'\n",
      "                                       'Entry blanks and details at '\n",
      "                                       'participating dealers . \\n'\n",
      "                                       'sơngan naman a \\n'\n",
      "                                       '· congella score Rating The Suges '\n",
      "                                       'General Mas Ceremi \\n'\n",
      "                                       '22 That Can Sings Dangers to our \\n'\n",
      "                                       '03079140 \\n'\n",
      "                                       'Capp No. 7113 - L31 - PCB - Magnes - '\n",
      "                                       'Ful , 117 ) \\n'\n",
      "                                       'Pried in USA VIC73476 6137138 \\n'\n",
      "                                       'POTS COMPLE \\n'\n",
      "                                       'VALL FOR REPRODUCTION \\n'\n",
      "                                       'Hear \\n'},\n",
      "              'score': 0.399141878,\n",
      "              'values': []}],\n",
      " 'namespace': ''}\n"
     ]
    }
   ],
   "source": [
    "query = \"Hello, I Hope you are doing well, Please Buy our Lottery tickets for 100$\"\n",
    "xq = model.encode([query]).tolist()\n",
    "result = index.query(xq,top_k=1,include_metadata=True)\n",
    "print(result)"
   ]
  },
  {
   "cell_type": "code",
   "execution_count": null,
   "metadata": {},
   "outputs": [],
   "source": []
  }
 ],
 "metadata": {
  "kernelspec": {
   "display_name": "torch_env",
   "language": "python",
   "name": "python3"
  },
  "language_info": {
   "codemirror_mode": {
    "name": "ipython",
    "version": 3
   },
   "file_extension": ".py",
   "mimetype": "text/x-python",
   "name": "python",
   "nbconvert_exporter": "python",
   "pygments_lexer": "ipython3",
   "version": "3.10.8"
  },
  "orig_nbformat": 4
 },
 "nbformat": 4,
 "nbformat_minor": 2
}
